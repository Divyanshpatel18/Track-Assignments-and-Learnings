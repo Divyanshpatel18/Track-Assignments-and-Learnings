{
 "cells": [
  {
   "cell_type": "code",
   "execution_count": 2,
   "id": "92296ff7-ddd0-451d-820e-ca6627081ea6",
   "metadata": {},
   "outputs": [],
   "source": [
    "import pandas as pd\n",
    "import numpy as np"
   ]
  },
  {
   "cell_type": "code",
   "execution_count": 3,
   "id": "0c2912c6-1519-45e2-b905-aeaf03edf105",
   "metadata": {},
   "outputs": [
    {
     "name": "stdout",
     "output_type": "stream",
     "text": [
      "       Name    Age      Domain            Description          Symbol\n",
      "0      Zeus  10000         Sky       King of the gods  Lightning bolt\n",
      "1  Poseidon   9000         Sea         God of the sea         Trident\n",
      "2     Hades   8500  Underworld  God of the underworld          Helmet\n",
      "3      Ares   7500         War             God of war           Spear\n",
      "4    Apollo   7000         Sun         God of the sun     Golden lyre\n",
      "\n",
      "        Name   Age     Domain             Description         Symbol\n",
      "0       Hera  9800   Marriage       Queen of the gods        Peacock\n",
      "1     Athena  8200  Knowledge       Goddess of wisdom            Owl\n",
      "2    Artemis  8100    Hunting     Goddess of the hunt  Bow and arrow\n",
      "3  Aphrodite  7500       Love         Goddess of love           Dove\n",
      "4    Demeter  8200    Harvest  Goddess of agriculture          Wheat\n"
     ]
    }
   ],
   "source": [
    "gods_df=pd.read_csv(\"D:/code data/greek_gods.csv\")\n",
    "goddess_df=pd.read_csv(\"D:/code data/greek_goddesses.csv\")\n",
    "print(gods_df)\n",
    "print()\n",
    "print(goddess_df)\n"
   ]
  },
  {
   "cell_type": "code",
   "execution_count": 4,
   "id": "72d7044b",
   "metadata": {},
   "outputs": [
    {
     "name": "stdout",
     "output_type": "stream",
     "text": [
      "\n",
      "   Name_god  Age_god      Domain        Description_god      Symbol_god  \\\n",
      "0       NaN      NaN     Harvest                    NaN             NaN   \n",
      "1       NaN      NaN     Hunting                    NaN             NaN   \n",
      "2       NaN      NaN   Knowledge                    NaN             NaN   \n",
      "3       NaN      NaN        Love                    NaN             NaN   \n",
      "4       NaN      NaN    Marriage                    NaN             NaN   \n",
      "5  Poseidon   9000.0         Sea         God of the sea         Trident   \n",
      "6      Zeus  10000.0         Sky       King of the gods  Lightning bolt   \n",
      "7    Apollo   7000.0         Sun         God of the sun     Golden lyre   \n",
      "8     Hades   8500.0  Underworld  God of the underworld          Helmet   \n",
      "9      Ares   7500.0         War             God of war           Spear   \n",
      "\n",
      "  Name_goddess  Age_goddess     Description_goddess Symbol_goddess  \n",
      "0      Demeter       8200.0  Goddess of agriculture          Wheat  \n",
      "1      Artemis       8100.0     Goddess of the hunt  Bow and arrow  \n",
      "2       Athena       8200.0       Goddess of wisdom            Owl  \n",
      "3    Aphrodite       7500.0         Goddess of love           Dove  \n",
      "4         Hera       9800.0       Queen of the gods        Peacock  \n",
      "5          NaN          NaN                     NaN            NaN  \n",
      "6          NaN          NaN                     NaN            NaN  \n",
      "7          NaN          NaN                     NaN            NaN  \n",
      "8          NaN          NaN                     NaN            NaN  \n",
      "9          NaN          NaN                     NaN            NaN  \n"
     ]
    }
   ],
   "source": [
    "# QUES1(\"Merge the data from greek_gods.csv and greek_goddesses.csv\")\n",
    "gods_df=pd.read_csv(\"D:/code data/greek_gods.csv\")\n",
    "goddess_df=pd.read_csv(\"D:/code data/greek_goddesses.csv\")\n",
    "# print(gods_df)\n",
    "print()\n",
    "# print(goddess_df)\n",
    "\n",
    "merged_df=pd.merge(gods_df,goddess_df,on=\"Domain\",how=\"outer\",suffixes=('_god','_goddess'))\n",
    "print(merged_df)"
   ]
  },
  {
   "cell_type": "code",
   "execution_count": 50,
   "metadata": {},
   "outputs": [
    {
     "name": "stdout",
     "output_type": "stream",
     "text": [
      "   Name_god  Age_god      Domain        Description_god      Symbol_god  \\\n",
      "6      Zeus  10000.0         Sky       King of the gods  Lightning bolt   \n",
      "5  Poseidon   9000.0         Sea         God of the sea         Trident   \n",
      "8     Hades   8500.0  Underworld  God of the underworld          Helmet   \n",
      "4       NaN      NaN    Marriage                    NaN             NaN   \n",
      "0       NaN      NaN     Harvest                    NaN             NaN   \n",
      "2       NaN      NaN   Knowledge                    NaN             NaN   \n",
      "1       NaN      NaN     Hunting                    NaN             NaN   \n",
      "\n",
      "  Name_goddess  Age_goddess     Description_goddess Symbol_goddess  \n",
      "6          NaN          NaN                     NaN            NaN  \n",
      "5          NaN          NaN                     NaN            NaN  \n",
      "8          NaN          NaN                     NaN            NaN  \n",
      "4         Hera       9800.0       Queen of the gods        Peacock  \n",
      "0      Demeter       8200.0  Goddess of agriculture          Wheat  \n",
      "2       Athena       8200.0       Goddess of wisdom            Owl  \n",
      "1      Artemis       8100.0     Goddess of the hunt  Bow and arrow  \n"
     ]
    }
   ],
   "source": [
    "# QUES2(\"Filter the merged table to only include gods and goddesses who are older than 8000 years,\n",
    "#  then sort them based on their ages in descending order.\")\n",
    "\n",
    "# Filter\n",
    "filtered_df = merged_df[(merged_df['Age_god'] > 8000) | (merged_df['Age_goddess'] > 8000)]\n",
    "\n",
    "# Sort \n",
    "sorted_filtered_df = filtered_df.sort_values(by=['Age_god', 'Age_goddess'], ascending=False)\n",
    "print(sorted_filtered_df)\n",
    "\n"
   ]
  },
  {
   "cell_type": "code",
   "execution_count": 61,
   "id": "9869692d",
   "metadata": {},
   "outputs": [
    {
     "name": "stdout",
     "output_type": "stream",
     "text": [
      "            Age_god  Age_goddess\n",
      "Domain                          \n",
      "Harvest         NaN       8200.0\n",
      "Hunting         NaN       8100.0\n",
      "Knowledge       NaN       8200.0\n",
      "Love            NaN       7500.0\n",
      "Marriage        NaN       9800.0\n",
      "Sea          9000.0          NaN\n",
      "Sky         10000.0          NaN\n",
      "Sun          7000.0          NaN\n",
      "Underworld   8500.0          NaN\n",
      "War          7500.0          NaN\n",
      "10000.0\n"
     ]
    }
   ],
   "source": [
    "# QUES 3(\"Join the two tables based on the \"Domain\" field and calculate the average age of gods and goddesses in each domain.\")\n",
    "gods_df=pd.read_csv(\"D:/code data/greek_gods.csv\")\n",
    "goddess_df=pd.read_csv(\"D:/code data/greek_goddesses.csv\")\n",
    "\n",
    "# Merge\n",
    "merged_df = pd.merge(gods_df, goddess_df, on='Domain', how='outer', suffixes=('_god', '_goddess'))\n",
    "# average \n",
    "average_age_by_domain = merged_df.groupby('Domain')[['Age_god', 'Age_goddess']].mean()\n",
    "print(average_age_by_domain)\n",
    "\n"
   ]
  },
  {
   "cell_type": "code",
   "execution_count": 6,
   "id": "918bca41",
   "metadata": {},
   "outputs": [
    {
     "name": "stdout",
     "output_type": "stream",
     "text": [
      "10000.0\n",
      "the highest age is a god.\n"
     ]
    }
   ],
   "source": [
    "# QUES 4(\".Determine which god/goddess has the highest age, and then find out if they are a god or a goddess.\")\n",
    "\n",
    "merged_df['Age_god'] = merged_df['Age_god'].fillna(0)\n",
    "merged_df['Age_goddess'] = merged_df['Age_goddess'].fillna(0)\n",
    "max_age=max(merged_df[['Age_god', 'Age_goddess']].values.flatten())\n",
    "# or \n",
    "# ages = merged_df[['Age_god', 'Age_goddess']].values.flatten()\n",
    "# # removing nan\n",
    "# ages_without_nan = ages[~pd.isna(ages)]\n",
    "# max_age = max(ages_without_nan)\n",
    "\n",
    "print(max_age)\n",
    "\n",
    "# check maximum age corresponds to a god or a goddess or not\n",
    "max_age_god = max(merged_df['Age_god'])\n",
    "max_age_goddess = max(merged_df['Age_goddess'])\n",
    "\n",
    "if max_age == max_age_god:\n",
    "    print(\"the highest age is a god.\")\n",
    "elif max_age == max_age_goddess:\n",
    "    print(\" highest age is a goddess.\")\n",
    "else:\n",
    "    print(\"The highest age does not correspond to any god or goddess.\")\n"
   ]
  },
  {
   "cell_type": "code",
   "execution_count": 69,
   "metadata": {},
   "outputs": [
    {
     "name": "stdout",
     "output_type": "stream",
     "text": [
      "   Name_god  Age_god      Domain        Description_god      Symbol_god  \\\n",
      "0       NaN      0.0     Harvest                    NaN             NaN   \n",
      "1       NaN      0.0     Hunting                    NaN             NaN   \n",
      "2       NaN      0.0   Knowledge                    NaN             NaN   \n",
      "3       NaN      0.0        Love                    NaN             NaN   \n",
      "4       NaN      0.0    Marriage                    NaN             NaN   \n",
      "5  Poseidon   9000.0         Sea         God of the sea         Trident   \n",
      "6      Zeus  10000.0         Sky       King of the gods  Lightning bolt   \n",
      "7    Apollo   7000.0         Sun         God of the sun     Golden lyre   \n",
      "8     Hades   8500.0  Underworld  God of the underworld          Helmet   \n",
      "9      Ares   7500.0         War             God of war           Spear   \n",
      "\n",
      "  Name_goddess  Age_goddess     Description_goddess Symbol_goddess  \\\n",
      "0      Demeter       8200.0  Goddess of agriculture          Wheat   \n",
      "1      Artemis       8100.0     Goddess of the hunt  Bow and arrow   \n",
      "2       Athena       8200.0       Goddess of wisdom            Owl   \n",
      "3    Aphrodite       7500.0         Goddess of love           Dove   \n",
      "4         Hera       9800.0       Queen of the gods        Peacock   \n",
      "5          NaN          0.0                     NaN            NaN   \n",
      "6          NaN          0.0                     NaN            NaN   \n",
      "7          NaN          0.0                     NaN            NaN   \n",
      "8          NaN          0.0                     NaN            NaN   \n",
      "9          NaN          0.0                     NaN            NaN   \n",
      "\n",
      "  Age_Group_god Age_Group_goddess    Age_Group  \n",
      "0         Young               Old          Old  \n",
      "1         Young               Old          Old  \n",
      "2         Young               Old          Old  \n",
      "3         Young       Middle-aged  Middle-aged  \n",
      "4         Young               Old          Old  \n",
      "5           Old             Young          Old  \n",
      "6           Old             Young          Old  \n",
      "7   Middle-aged             Young  Middle-aged  \n",
      "8           Old             Young          Old  \n",
      "9   Middle-aged             Young  Middle-aged  \n"
     ]
    }
   ],
   "source": [
    "# QUES 5(\"Create a new column in each table called \"Age_Group\" and categorize the gods/goddesses into groups such as \"Young\" (age < 5000), \n",
    "# \"Middle-aged\" (age between 5000 and 8000), and \"Old\" (age > 8000).\")\n",
    "\n",
    "# print(merged_df)\n",
    "def categorize(age):\n",
    "    if age < 5000:\n",
    "        return \"Young\"\n",
    "    elif age >= 5000 and age <= 8000:\n",
    "        return \"Middle-aged\"\n",
    "    else:\n",
    "        return \"Old\"\n",
    "\n",
    "merged_df['Age_Group_god'] = merged_df['Age_god'].apply(categorize)\n",
    "merged_df['Age_Group_goddess'] = merged_df['Age_goddess'].apply(categorize)\n",
    "print(merged_df)\n"
   ]
  },
  {
   "cell_type": "code",
   "execution_count": 70,
   "id": "a3cc9fd5",
   "metadata": {},
   "outputs": [
    {
     "name": "stdout",
     "output_type": "stream",
     "text": [
      "Gods tend to be older on average.\n",
      "Average age of gods: 4200.0\n",
      "Average age of goddesses: 4180.0\n"
     ]
    }
   ],
   "source": [
    "# QUES 6(\"Compare the average ages of gods and goddesses. Is there a significant age difference between them? If yes,\n",
    "#  which group tends to be older?\")\n",
    "\n",
    "# calculate average ages of gods and goddesses\n",
    "avg_age_gods = merged_df['Age_god'].mean()\n",
    "avg_age_goddesses = merged_df['Age_goddess'].mean()\n",
    "\n",
    "# compare average ages\n",
    "if avg_age_gods > avg_age_goddesses:\n",
    "    print(\"Gods are older on average.\")\n",
    "elif avg_age_goddesses > avg_age_gods:\n",
    "    print(\"Goddesses are older on average.\")\n",
    "else:\n",
    "    print(\"The average ages of gods and goddesses are the same.\")\n",
    "\n",
    "# print the average ages\n",
    "print(\"Average age of gods:\", avg_age_gods)\n",
    "print(\"Average age of goddesses:\", avg_age_goddesses)\n"
   ]
  },
  {
   "cell_type": "code",
   "execution_count": 5,
   "id": "730e6bef",
   "metadata": {},
   "outputs": [
    {
     "name": "stdout",
     "output_type": "stream",
     "text": [
      "Goddess: Demeter\n",
      "Goddess: Artemis\n",
      "Goddess: Athena\n",
      "Goddess: Hera\n",
      "God: Poseidon\n",
      "God: Zeus\n",
      "God: Hades\n"
     ]
    }
   ],
   "source": [
    "# QUES 7(\"Write a Python program using for loop to iterate over the \"Age\" column of the merged table \n",
    "# (after merging the gods and goddesses tables) and print out the names of gods/goddesses who are older than 8000 years.\")\n",
    "\n",
    "# Iterate over the merged table and print names of gods/goddesses older than 8000 years\n",
    "for index, row in merged_df.iterrows():\n",
    "    if row['Age_god'] > 8000:\n",
    "        print(\"God:\", row['Name_god'])\n",
    "    if row['Age_goddess'] > 8000:\n",
    "        print(\"Goddess:\", row['Name_goddess'])\n"
   ]
  },
  {
   "cell_type": "code",
   "execution_count": 78,
   "metadata": {},
   "outputs": [
    {
     "name": "stdout",
     "output_type": "stream",
     "text": [
      "The oldest god/goddess is: Zeus\n",
      "Their age is: 10000.0\n"
     ]
    }
   ],
   "source": [
    "# QUES 8(\".Write a Python program to find the oldest god/goddess from the merged table (after merging the gods and goddesses tables)\n",
    "#  by iterating through the \"Age\" column using a while loop. Print out the name of the oldest god/goddess and their age.\")\n",
    "\n",
    "# Find the oldest god/goddess using a while loop\n",
    "oldest_age = 0\n",
    "oldest_name = None\n",
    "\n",
    "# Iterate over the merged table to find the oldest god/goddess\n",
    "index = 0\n",
    "while index < len(merged_df):\n",
    "    row = merged_df.iloc[index]\n",
    "    if row['Age_god'] >= oldest_age:\n",
    "        oldest_name = row['Name_god']\n",
    "        oldest_age = row['Age_god']\n",
    "    if row['Age_goddess'] >= oldest_age:\n",
    "        oldest_name = row['Name_goddess']\n",
    "        oldest_age = row['Age_goddess']\n",
    "    index += 1\n",
    "\n",
    "# Print the name of the oldest god/goddess and their age\n",
    "print(\"The oldest god/goddess is:\", oldest_name)\n",
    "print(\"Their age is:\", oldest_age)\n",
    "\n"
   ]
  }
 ],
 "metadata": {
  "kernelspec": {
   "display_name": "Python 3 (ipykernel)",
   "language": "python",
   "name": "python3"
  },
  "language_info": {
   "codemirror_mode": {
    "name": "ipython",
    "version": 3
   },
   "file_extension": ".py",
   "mimetype": "text/x-python",
   "name": "python",
   "nbconvert_exporter": "python",
   "pygments_lexer": "ipython3",
   "version": "3.12.2"
  }
 },
 "nbformat": 4,
 "nbformat_minor": 5
}
