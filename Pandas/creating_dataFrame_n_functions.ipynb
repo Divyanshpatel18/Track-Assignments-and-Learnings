{
 "cells": [
  {
   "cell_type": "code",
   "execution_count": 93,
   "id": "81f74e14-40d5-4f31-8898-0a80c4e1975b",
   "metadata": {},
   "outputs": [],
   "source": [
    "import numpy as np\n",
    "import pandas as pd"
   ]
  },
  {
   "cell_type": "code",
   "execution_count": 94,
   "id": "ed7f2409-10d4-4a79-b019-1d1b69c2fae0",
   "metadata": {},
   "outputs": [
    {
     "name": "stdout",
     "output_type": "stream",
     "text": [
      "   A  B  C\n",
      "0  1  2  3\n",
      "1  4  5  6\n",
      "2  7  8  9\n"
     ]
    }
   ],
   "source": [
    "data = np.array([[1, 2, 3],\n",
    "                 [4, 5, 6],\n",
    "                 [7, 8, 9]])\n",
    "\n",
    "df = pd.DataFrame(data, columns=['A', 'B', 'C'])\n",
    "print(df)"
   ]
  },
  {
   "cell_type": "code",
   "execution_count": 95,
   "id": "09bf6f03-df63-46c6-99f3-b3c41b6bd161",
   "metadata": {},
   "outputs": [
    {
     "name": "stdout",
     "output_type": "stream",
     "text": [
      "     State Code                   State Name Country Code Country Name\n",
      "0           BDS                   Badakhshan           AF  Afghanistan\n",
      "1           BDG                      Badghis           AF  Afghanistan\n",
      "2           BGL                      Baghlan           AF  Afghanistan\n",
      "3           BAL                        Balkh           AF  Afghanistan\n",
      "4           BAM                       Bamyan           AF  Afghanistan\n",
      "...         ...                          ...          ...          ...\n",
      "4984         MW    Mashonaland West Province           ZW     Zimbabwe\n",
      "4985         MV            Masvingo Province           ZW     Zimbabwe\n",
      "4986         MN  Matabeleland North Province           ZW     Zimbabwe\n",
      "4987         MS  Matabeleland South Province           ZW     Zimbabwe\n",
      "4988         MI            Midlands Province           ZW     Zimbabwe\n",
      "\n",
      "[4989 rows x 4 columns]\n"
     ]
    }
   ],
   "source": [
    "data=pd.read_csv(\"C:/Users/ASUS/Downloads/states_by_country.csv\")\n",
    "print(data)"
   ]
  },
  {
   "cell_type": "code",
   "execution_count": 96,
   "id": "0b0830ed",
   "metadata": {},
   "outputs": [
    {
     "name": "stdout",
     "output_type": "stream",
     "text": [
      "Unnamed: 0    0\n",
      "First Name    0\n",
      "Last Name     0\n",
      "Gender        0\n",
      "Country       0\n",
      "Age           0\n",
      "Date          0\n",
      "Id            0\n",
      "dtype: int64\n"
     ]
    }
   ],
   "source": [
    "data=pd.read_excel(\"C:/Users/ASUS/Downloads/file_example_XLSX.xlsx\")\n",
    "# print(data.head(10))\n",
    "# print(data.tail(10))\n",
    "# print(data.info())\n",
    "# data.describe()\n",
    "\n",
    "# print(data.isnull())\n",
    "print(data.isnull().sum())\n"
   ]
  },
  {
   "cell_type": "code",
   "execution_count": 97,
   "id": "2a37e93f",
   "metadata": {},
   "outputs": [],
   "source": [
    "        # WORKING WITH DUPLICATES\n",
    "\n",
    "# data1=pd.read_excel(\"D:/code data/DummyPandas.xlsx\")\n",
    "# print(data1)\n",
    "# print(data1.duplicated())\n",
    "# print(data1['EEID'].duplicated())\n",
    "# print(data1['EEID'].duplicated().sum())\n",
    "# print(data1[\"Salary\"].isnull().sum())\n",
    "\n",
    "# print(data1.drop_duplicates())\n",
    "# print(data1[\"EEID\"].drop_duplicates())\n",
    "# print(data1.drop_duplicates(\"EEID\"))\n",
    "# print(data1)"
   ]
  },
  {
   "cell_type": "code",
   "execution_count": 98,
   "metadata": {},
   "outputs": [],
   "source": [
    "#  WORKING WITH MISSING VALUES\n",
    "data1=pd.read_excel(\"D:/code data/DummyPandas.xlsx\")\n",
    "# print(data1)\n",
    "# print(data1.isnull().sum())\n",
    "# print(data1.dropna())\n",
    "\n",
    "# print(data1.replace(np.nan,\"null value cell\"))\n",
    "# data1.fillna(\"hi null cell\")\n",
    "# data1[\"Salary\"]=data1[\"Salary\"].replace(np.nan,30000)\n",
    "# data1[\"Salary\"]=data1[\"Salary\"].replace(np.nan,data1[\"Salary\"].mean())\n",
    "\n",
    "# print(data1.fillna(method=\"ffill\"))\n",
    "# data1.fillna(\"hi null cell\")\n"
   ]
  },
  {
   "cell_type": "code",
   "execution_count": 100,
   "id": "6ccbcea2",
   "metadata": {},
   "outputs": [
    {
     "name": "stdout",
     "output_type": "stream",
     "text": [
      "     Months short_months\n",
      "0   January          Jan\n",
      "1  February          Feb\n",
      "2     March          Mar\n",
      "3     April          Apr\n"
     ]
    }
   ],
   "source": [
    "        # COLUMN TRANSFORMATION\n",
    "df=pd.read_excel(\"D:/code data/ESD.xlsx\")\n",
    "# conditon basis column transformation\n",
    "# if bounus is less than 0 create column GetBonus and write bonus else no bonuss\n",
    "# df.loc[(df[\"Bonus %\"]==0),\"GetBonus\"]=\"no bonus\"\n",
    "# df.loc[(df[\"Bonus %\"])>0,\"GetBonus\"]=\"bonus\"\n",
    "# print(df.head(10))\n",
    "\n",
    "df1=pd.read_excel(\"D:/code data/practice_1.xlsx\")\n",
    "# print(df1)\n",
    "#combining two columns into new column\n",
    "# df1[\"Full Name\"]=df1[\"First Name\"]+\" \"+df1[\"Last Name\"]\n",
    "# print(df1)\n",
    "# df1[\"Full Name\"]=df1[\"First Name\"].str.capitalize()+\" \"+df1[\"Last Name\"].str.capitalize()\n",
    "# #creating new column bonus and adding values in them \n",
    "# df1[\"Bonus\"]=(df1[\"Salary\"]/100)*20\n",
    "\n",
    "\n",
    "def extract(value):\n",
    "    return value[0:3]\n",
    "\n",
    "data1={\"Months\":[\"January\",\"February\",\"March\",\"April\"]}\n",
    "a=pd.DataFrame(data1)\n",
    "a[\"short_months\"]=a[\"Months\"].map(extract)\n",
    "print(a)"
   ]
  },
  {
   "cell_type": "code",
   "execution_count": 99,
   "metadata": {},
   "outputs": [
    {
     "name": "stdout",
     "output_type": "stream",
     "text": [
      "                      Annual Salary  Age\n",
      "Country       Gender                    \n",
      "Brazil        Female         258426   25\n",
      "              Male           249506   26\n",
      "China         Female         249686   25\n",
      "              Male           257194   25\n",
      "United States Female         258498   25\n",
      "              Male           258081   25\n"
     ]
    }
   ],
   "source": [
    "      #  GROUP BY\n",
    "data=pd.read_excel(\"D:/code data/ESD.xlsx\")\n",
    "\n",
    "# gp=data.groupby([\"Department\",\"Gender\"]).agg({\"EEID\":\"count\"})\n",
    "# gp1=data.groupby(\"Country\").agg({\"Age\":\"mean\"})\n",
    "gp1=data.groupby([\"Country\",\"Gender\"]).agg({\"Annual Salary\":\"max\",\"Age\":\"min\"})\n",
    "\n",
    "print(gp1)"
   ]
  },
  {
   "cell_type": "code",
   "execution_count": 111,
   "id": "2d66d4d0",
   "metadata": {},
   "outputs": [
    {
     "name": "stdout",
     "output_type": "stream",
     "text": [
      "  Emp Id   Names  Age\n",
      "0    E01     Ram   34\n",
      "1    E02   Shyam   56\n",
      "2    E03   Rahul   23\n",
      "3    E04  Vishal   44\n",
      "4    E05    Ravi   32\n",
      "5    E06    John   36\n",
      "0    E07   bittu   34\n",
      "1    E08  chintu   56\n",
      "2    E09   Pappu   23\n",
      "3    E10   chotu   44\n",
      "4    E11   bunty   32\n",
      "5    E12    golu   36\n"
     ]
    }
   ],
   "source": [
    "# data1= {\"Emp Id\":[\"E01\",\"E02\",\"E03\",\"E04\",\"E05\",\"E06\"],\n",
    "#         \"Names\":[\"Ram\",\"Shyam\",\"Rahul\",\"Vishal\",\"Ravi\",\"John\"],\n",
    "#         \"Age\":[34,56,23,44,32,36]}\n",
    "\n",
    "# data2={\"Emp Id\":[\"E01\",\"E02\",\"E03\",\"E04\",\"E05\",\"E06\"],\n",
    "#         \"Salary\":[45000,56000,34000,30000,50000,62000]}\n",
    "# df1=pd.DataFrame(data1)\n",
    "# df2=pd.DataFrame(data2)\n",
    "# print(df1)\n",
    "# print()\n",
    "# print(df2)\n",
    "\n",
    "# print(pd.merge(df1,df2,on=\"Emp Id\"))\n",
    "# print(pd.merge(df1,df2,on=\"Emp Id\",how=\"left\"))\n",
    "\n",
    "data1= {\"Emp Id\":[\"E01\",\"E02\",\"E03\",\"E04\",\"E05\",\"E06\"],\n",
    "        \"Names\":[\"Ram\",\"Shyam\",\"Rahul\",\"Vishal\",\"Ravi\",\"John\"],\n",
    "        \"Age\":[34,56,23,44,32,36]}\n",
    "\n",
    "data2={\"Emp Id\":[\"E07\",\"E08\",\"E09\",\"E10\",\"E11\",\"E12\"],\n",
    "        \"Names\":[\"bittu\",\"chintu\",\"Pappu\",\"chotu\",\"bunty\",\"golu\"],\n",
    "        \"Age\":[34,56,23,44,32,36]}\n",
    "df1=pd.DataFrame(data1)\n",
    "df2=pd.DataFrame(data2)\n",
    "\n",
    "print(pd.concat([df1,df2]))"
   ]
  },
  {
   "cell_type": "code",
   "execution_count": 121,
   "id": "63a3730d",
   "metadata": {},
   "outputs": [
    {
     "name": "stdout",
     "output_type": "stream",
     "text": [
      "   Fruits  Price  Quantity\n",
      "0   mango    100        15\n",
      "1  apples    150        10\n",
      "2  banana     30        10\n",
      "3  papaya     35         3\n",
      "   Fruits  Price  Quantity\n",
      "0   mango    120        12\n",
      "1  apples    175        15\n",
      "2  banana     30        10\n",
      "3  papaya     30         5\n",
      "  Price       Quantity      \n",
      "   self other     self other\n",
      "0   100   120       15    12\n",
      "1   150   175       10    15\n",
      "3    35    30        3     5\n",
      "  Fruits        Price        Quantity      \n",
      "    self other   self  other     self other\n",
      "0    NaN   NaN  100.0  120.0     15.0  12.0\n",
      "1    NaN   NaN  150.0  175.0     10.0  15.0\n",
      "2    NaN   NaN    NaN    NaN      NaN   NaN\n",
      "3    NaN   NaN   35.0   30.0      3.0   5.0\n"
     ]
    }
   ],
   "source": [
    "    # COMPARE DATAFRMES\n",
    "\n",
    "dict={\"Fruits\":[\"mango\",\"apples\",\"banana\",\"papaya\"],\n",
    "      \"Price\":[100,150,30,35],\n",
    "      \"Quantity\":[15,10,10,3]}\n",
    "df1=pd.DataFrame(dict)\n",
    "# print(df1)\n",
    "\n",
    "df2=df1.copy()\n",
    "df2.loc[0,\"Price\"]=120\n",
    "df2.loc[1,\"Price\"]=175\n",
    "df2.loc[3,\"Price\"]=30\n",
    "df2.loc[0,\"Quantity\"]=12\n",
    "df2.loc[1,\"Quantity\"]=15\n",
    "df2.loc[3,\"Quantity\"]=5\n",
    "# print(df2)\n",
    "# print(df1.compare(df2,align_axis=0))\n",
    "print(df1.compare(df2,keep_equal=True))\n",
    "print(df1.compare(df2,keep_shape=True))"
   ]
  },
  {
   "cell_type": "code",
   "execution_count": 138,
   "id": "441c5f8e",
   "metadata": {},
   "outputs": [
    {
     "name": "stdout",
     "output_type": "stream",
     "text": [
      "   Names Houses Grades\n",
      "0   John    red    3rd\n",
      "1    Ben   blue    8th\n",
      "2  David  green    9th\n",
      "3  Peter    red    8th\n",
      "   Names variable  value\n",
      "0   John   Houses    red\n",
      "1    Ben   Houses   blue\n",
      "2  David   Houses  green\n",
      "3  Peter   Houses    red\n",
      "   Names Houses&Grades values\n",
      "0   John        Houses    red\n",
      "1    Ben        Houses   blue\n",
      "2  David        Houses  green\n",
      "3  Peter        Houses    red\n",
      "4   John        Grades    3rd\n",
      "5    Ben        Grades    8th\n",
      "6  David        Grades    9th\n",
      "7  Peter        Grades    8th\n"
     ]
    }
   ],
   "source": [
    "  # PIVOTING AND MELTING DATAFRAMES\n",
    "\n",
    "# dict={\"keys\":[\"k1\",\"k2\",\"k1\",\"k2\"],\n",
    "#       \"Names\":[\"John\",\"Ben\",\"David\",\"Peter\"],\n",
    "#       \"Houses\":[\"red\",\"blue\",\"green\",\"red\"],\n",
    "#       \"Grades\":[\"3rd\",\"8th\",\"9th\",\"8th\"]}\n",
    "\n",
    "# df=pd.DataFrame(dict)\n",
    "# print(df)\n",
    "\n",
    "# # print(df.pivot(index='keys', columns='Names', values='Houses',values=\"Grades\"))\n",
    "# print(df.pivot_table(index='keys', columns='Names', values=['Houses', 'Grades'], aggfunc='first'))\n",
    "\n",
    "dict={ \"Names\":[\"John\",\"Ben\",\"David\",\"Peter\"],\n",
    "      \"Houses\":[\"red\",\"blue\",\"green\",\"red\"],\n",
    "      \"Grades\":[\"3rd\",\"8th\",\"9th\",\"8th\"]}\n",
    "df=pd.DataFrame(dict)\n",
    "print(df)\n",
    "print(pd.melt(df,id_vars=[\"Names\"],value_vars=[\"Houses\"]))\n",
    "print(pd.melt(df,id_vars=[\"Names\"],value_vars=[\"Houses\",\"Grades\"],var_name=\"Houses&Grades\",value_name=\"values\"))"
   ]
  }
 ],
 "metadata": {
  "kernelspec": {
   "display_name": "Python 3 (ipykernel)",
   "language": "python",
   "name": "python3"
  },
  "language_info": {
   "codemirror_mode": {
    "name": "ipython",
    "version": 3
   },
   "file_extension": ".py",
   "mimetype": "text/x-python",
   "name": "python",
   "nbconvert_exporter": "python",
   "pygments_lexer": "ipython3",
   "version": "3.12.2"
  }
 },
 "nbformat": 4,
 "nbformat_minor": 5
}
